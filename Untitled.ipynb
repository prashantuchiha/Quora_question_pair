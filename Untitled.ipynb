{
 "cells": [
  {
   "cell_type": "markdown",
   "id": "df8bca10",
   "metadata": {},
   "source": [
    "## Featurizing text data with tfidf weighted word-vectors "
   ]
  },
  {
   "cell_type": "code",
   "execution_count": 2,
   "id": "0a56cde2",
   "metadata": {},
   "outputs": [
    {
     "name": "stdout",
     "output_type": "stream",
     "text": [
      "Collecting spacy\n",
      "  Downloading spacy-3.6.1-cp310-cp310-win_amd64.whl (12.0 MB)\n",
      "     ---------------------------------------- 12.0/12.0 MB 6.0 MB/s eta 0:00:00\n",
      "Collecting pydantic!=1.8,!=1.8.1,<3.0.0,>=1.7.4\n",
      "  Downloading pydantic-2.2.1-py3-none-any.whl (373 kB)\n",
      "     -------------------------------------- 373.4/373.4 kB 2.1 MB/s eta 0:00:00\n",
      "Collecting langcodes<4.0.0,>=3.2.0\n",
      "  Downloading langcodes-3.3.0-py3-none-any.whl (181 kB)\n",
      "     -------------------------------------- 181.6/181.6 kB 5.5 MB/s eta 0:00:00\n",
      "Collecting murmurhash<1.1.0,>=0.28.0\n",
      "  Downloading murmurhash-1.0.9-cp310-cp310-win_amd64.whl (18 kB)\n",
      "Requirement already satisfied: tqdm<5.0.0,>=4.38.0 in d:\\ds_projects\\project_1\\env\\lib\\site-packages (from spacy) (4.65.0)\n",
      "Requirement already satisfied: jinja2 in d:\\ds_projects\\project_1\\env\\lib\\site-packages (from spacy) (3.1.2)\n",
      "Collecting spacy-legacy<3.1.0,>=3.0.11\n",
      "  Downloading spacy_legacy-3.0.12-py2.py3-none-any.whl (29 kB)\n",
      "Collecting preshed<3.1.0,>=3.0.2\n",
      "  Downloading preshed-3.0.8-cp310-cp310-win_amd64.whl (94 kB)\n",
      "     ---------------------------------------- 94.7/94.7 kB 5.6 MB/s eta 0:00:00\n",
      "Collecting typer<0.10.0,>=0.3.0\n",
      "  Downloading typer-0.9.0-py3-none-any.whl (45 kB)\n",
      "     ---------------------------------------- 45.9/45.9 kB 2.2 MB/s eta 0:00:00\n",
      "Collecting smart-open<7.0.0,>=5.2.1\n",
      "  Downloading smart_open-6.3.0-py3-none-any.whl (56 kB)\n",
      "     ---------------------------------------- 56.8/56.8 kB 1.5 MB/s eta 0:00:00\n",
      "Requirement already satisfied: numpy>=1.15.0 in d:\\ds_projects\\project_1\\env\\lib\\site-packages (from spacy) (1.23.5)\n",
      "Collecting srsly<3.0.0,>=2.4.3\n",
      "  Downloading srsly-2.4.7-cp310-cp310-win_amd64.whl (481 kB)\n",
      "     -------------------------------------- 481.6/481.6 kB 3.8 MB/s eta 0:00:00\n",
      "Collecting pathy>=0.10.0\n",
      "  Downloading pathy-0.10.2-py3-none-any.whl (48 kB)\n",
      "     ---------------------------------------- 48.9/48.9 kB 2.6 MB/s eta 0:00:00\n",
      "Requirement already satisfied: packaging>=20.0 in d:\\ds_projects\\project_1\\env\\lib\\site-packages (from spacy) (22.0)\n",
      "Collecting spacy-loggers<2.0.0,>=1.0.0\n",
      "  Downloading spacy_loggers-1.0.4-py3-none-any.whl (11 kB)\n",
      "Requirement already satisfied: setuptools in d:\\ds_projects\\project_1\\env\\lib\\site-packages (from spacy) (65.6.3)\n",
      "Collecting catalogue<2.1.0,>=2.0.6\n",
      "  Downloading catalogue-2.0.9-py3-none-any.whl (17 kB)\n",
      "Collecting wasabi<1.2.0,>=0.9.1\n",
      "  Downloading wasabi-1.1.2-py3-none-any.whl (27 kB)\n",
      "Collecting thinc<8.2.0,>=8.1.8\n",
      "  Downloading thinc-8.1.12-cp310-cp310-win_amd64.whl (1.5 MB)\n",
      "     ---------------------------------------- 1.5/1.5 MB 6.3 MB/s eta 0:00:00\n",
      "Collecting cymem<2.1.0,>=2.0.2\n",
      "  Downloading cymem-2.0.7-cp310-cp310-win_amd64.whl (29 kB)\n",
      "Requirement already satisfied: requests<3.0.0,>=2.13.0 in d:\\ds_projects\\project_1\\env\\lib\\site-packages (from spacy) (2.28.1)\n",
      "Collecting typing-extensions>=4.6.1\n",
      "  Downloading typing_extensions-4.7.1-py3-none-any.whl (33 kB)\n",
      "Collecting pydantic-core==2.6.1\n",
      "  Downloading pydantic_core-2.6.1-cp310-none-win_amd64.whl (1.7 MB)\n",
      "     ---------------------------------------- 1.7/1.7 MB 6.1 MB/s eta 0:00:00\n",
      "Collecting annotated-types>=0.4.0\n",
      "  Downloading annotated_types-0.5.0-py3-none-any.whl (11 kB)\n",
      "Requirement already satisfied: charset-normalizer<3,>=2 in d:\\ds_projects\\project_1\\env\\lib\\site-packages (from requests<3.0.0,>=2.13.0->spacy) (2.0.4)\n",
      "Requirement already satisfied: certifi>=2017.4.17 in d:\\ds_projects\\project_1\\env\\lib\\site-packages (from requests<3.0.0,>=2.13.0->spacy) (2023.5.7)\n",
      "Requirement already satisfied: urllib3<1.27,>=1.21.1 in d:\\ds_projects\\project_1\\env\\lib\\site-packages (from requests<3.0.0,>=2.13.0->spacy) (1.26.14)\n",
      "Requirement already satisfied: idna<4,>=2.5 in d:\\ds_projects\\project_1\\env\\lib\\site-packages (from requests<3.0.0,>=2.13.0->spacy) (3.4)\n",
      "Collecting blis<0.8.0,>=0.7.8\n",
      "  Downloading blis-0.7.10-cp310-cp310-win_amd64.whl (7.4 MB)\n",
      "     ---------------------------------------- 7.4/7.4 MB 5.6 MB/s eta 0:00:00\n",
      "Collecting confection<1.0.0,>=0.0.1\n",
      "  Downloading confection-0.1.1-py3-none-any.whl (34 kB)\n",
      "Requirement already satisfied: colorama in d:\\ds_projects\\project_1\\env\\lib\\site-packages (from tqdm<5.0.0,>=4.38.0->spacy) (0.4.6)\n",
      "Requirement already satisfied: click<9.0.0,>=7.1.1 in d:\\ds_projects\\project_1\\env\\lib\\site-packages (from typer<0.10.0,>=0.3.0->spacy) (8.1.3)\n",
      "Requirement already satisfied: MarkupSafe>=2.0 in d:\\ds_projects\\project_1\\env\\lib\\site-packages (from jinja2->spacy) (2.1.1)\n",
      "Installing collected packages: cymem, wasabi, typing-extensions, spacy-loggers, spacy-legacy, smart-open, murmurhash, langcodes, catalogue, blis, annotated-types, typer, srsly, pydantic-core, preshed, pydantic, pathy, confection, thinc, spacy\n",
      "  Attempting uninstall: typing-extensions\n",
      "    Found existing installation: typing_extensions 4.4.0\n",
      "    Uninstalling typing_extensions-4.4.0:\n",
      "      Successfully uninstalled typing_extensions-4.4.0\n",
      "Successfully installed annotated-types-0.5.0 blis-0.7.10 catalogue-2.0.9 confection-0.1.1 cymem-2.0.7 langcodes-3.3.0 murmurhash-1.0.9 pathy-0.10.2 preshed-3.0.8 pydantic-2.2.1 pydantic-core-2.6.1 smart-open-6.3.0 spacy-3.6.1 spacy-legacy-3.0.12 spacy-loggers-1.0.4 srsly-2.4.7 thinc-8.1.12 typer-0.9.0 typing-extensions-4.7.1 wasabi-1.1.2\n"
     ]
    },
    {
     "name": "stderr",
     "output_type": "stream",
     "text": [
      "ERROR: pip's dependency resolver does not currently take into account all the packages that are installed. This behaviour is the source of the following dependency conflicts.\n",
      "tensorflow-intel 2.13.0 requires typing-extensions<4.6.0,>=3.6.6, but you have typing-extensions 4.7.1 which is incompatible.\n"
     ]
    }
   ],
   "source": [
    "!pip install spacy"
   ]
  },
  {
   "cell_type": "code",
   "execution_count": 3,
   "id": "04f109e8",
   "metadata": {},
   "outputs": [],
   "source": [
    "import pandas as pd\n",
    "import matplotlib.pyplot as plt\n",
    "import re\n",
    "import time\n",
    "import warnings\n",
    "import numpy as np\n",
    "from nltk.corpus import stopwords\n",
    "from sklearn.preprocessing import normalize\n",
    "from sklearn.feature_extraction.text import CountVectorizer\n",
    "from sklearn.feature_extraction.text import TfidfVectorizer\n",
    "warnings.filterwarnings(\"ignore\")\n",
    "import sys\n",
    "import os \n",
    "import pandas as pd\n",
    "import numpy as np\n",
    "from tqdm import tqdm\n",
    "\n",
    "import spacy"
   ]
  },
  {
   "cell_type": "code",
   "execution_count": 4,
   "id": "3d060f52",
   "metadata": {},
   "outputs": [],
   "source": [
    "df=pd.read_csv(\"data/train.csv\")\n"
   ]
  },
  {
   "cell_type": "code",
   "execution_count": 5,
   "id": "9d84d570",
   "metadata": {},
   "outputs": [],
   "source": [
    "df[\"question1\"]=df[\"question1\"].apply(lambda x: str(x))\n",
    "df[\"question2\"]=df[\"question2\"].apply(lambda x: str(x))"
   ]
  },
  {
   "cell_type": "code",
   "execution_count": 6,
   "id": "81a9f861",
   "metadata": {},
   "outputs": [],
   "source": [
    "# mrege texts\n",
    "questions=list(df[\"question1\"])+list(df[\"question2\"])"
   ]
  },
  {
   "cell_type": "code",
   "execution_count": 8,
   "id": "db1f1b66",
   "metadata": {},
   "outputs": [
    {
     "data": {
      "text/plain": [
       "<808580x109679 sparse matrix of type '<class 'numpy.float64'>'\n",
       "\twith 8146555 stored elements in Compressed Sparse Row format>"
      ]
     },
     "execution_count": 8,
     "metadata": {},
     "output_type": "execute_result"
    }
   ],
   "source": [
    "tfidf=TfidfVectorizer(lowercase=False)\n",
    "tfidf.fit_transform(questions)"
   ]
  },
  {
   "cell_type": "markdown",
   "id": "5d003593",
   "metadata": {},
   "source": [
    "- tfidf.get_feature_names(): This returns a list of all the unique words (features) in the corpus that was used to fit the TfidfVectorizer model.\n",
    "\n",
    "- tfidf.idf_: This returns the IDF (Inverse Document Frequency) scores for each word in the corpus.\n",
    "\n",
    "- zip(tfidf.get_feature_names(), tfidf.idf_): This combines the words and their corresponding IDF scores as pairs.\n",
    "\n",
    "- dict(...): This converts the pairs into a dictionary where words are keys and IDF scores are values."
   ]
  },
  {
   "cell_type": "code",
   "execution_count": 9,
   "id": "b1b5db98",
   "metadata": {},
   "outputs": [],
   "source": [
    "word2tfidf=dict(zip(tfidf.get_feature_names_out(),tfidf.idf_))"
   ]
  },
  {
   "cell_type": "code",
   "execution_count": 13,
   "id": "1f693877",
   "metadata": {},
   "outputs": [
    {
     "name": "stdout",
     "output_type": "stream",
     "text": [
      "Collecting en-core-web-lg==3.6.0\n",
      "  Downloading https://github.com/explosion/spacy-models/releases/download/en_core_web_lg-3.6.0/en_core_web_lg-3.6.0-py3-none-any.whl (587.7 MB)\n",
      "     -------------------------------------- 587.7/587.7 MB 1.3 MB/s eta 0:00:00\n",
      "Requirement already satisfied: spacy<3.7.0,>=3.6.0 in d:\\ds_projects\\project_1\\env\\lib\\site-packages (from en-core-web-lg==3.6.0) (3.6.1)\n",
      "Requirement already satisfied: packaging>=20.0 in d:\\ds_projects\\project_1\\env\\lib\\site-packages (from spacy<3.7.0,>=3.6.0->en-core-web-lg==3.6.0) (22.0)\n",
      "Requirement already satisfied: langcodes<4.0.0,>=3.2.0 in d:\\ds_projects\\project_1\\env\\lib\\site-packages (from spacy<3.7.0,>=3.6.0->en-core-web-lg==3.6.0) (3.3.0)\n",
      "Requirement already satisfied: cymem<2.1.0,>=2.0.2 in d:\\ds_projects\\project_1\\env\\lib\\site-packages (from spacy<3.7.0,>=3.6.0->en-core-web-lg==3.6.0) (2.0.7)\n",
      "Requirement already satisfied: srsly<3.0.0,>=2.4.3 in d:\\ds_projects\\project_1\\env\\lib\\site-packages (from spacy<3.7.0,>=3.6.0->en-core-web-lg==3.6.0) (2.4.7)\n",
      "Requirement already satisfied: wasabi<1.2.0,>=0.9.1 in d:\\ds_projects\\project_1\\env\\lib\\site-packages (from spacy<3.7.0,>=3.6.0->en-core-web-lg==3.6.0) (1.1.2)\n",
      "Requirement already satisfied: jinja2 in d:\\ds_projects\\project_1\\env\\lib\\site-packages (from spacy<3.7.0,>=3.6.0->en-core-web-lg==3.6.0) (3.1.2)\n",
      "Requirement already satisfied: smart-open<7.0.0,>=5.2.1 in d:\\ds_projects\\project_1\\env\\lib\\site-packages (from spacy<3.7.0,>=3.6.0->en-core-web-lg==3.6.0) (6.3.0)\n",
      "Requirement already satisfied: catalogue<2.1.0,>=2.0.6 in d:\\ds_projects\\project_1\\env\\lib\\site-packages (from spacy<3.7.0,>=3.6.0->en-core-web-lg==3.6.0) (2.0.9)\n",
      "Requirement already satisfied: typer<0.10.0,>=0.3.0 in d:\\ds_projects\\project_1\\env\\lib\\site-packages (from spacy<3.7.0,>=3.6.0->en-core-web-lg==3.6.0) (0.9.0)\n",
      "Requirement already satisfied: tqdm<5.0.0,>=4.38.0 in d:\\ds_projects\\project_1\\env\\lib\\site-packages (from spacy<3.7.0,>=3.6.0->en-core-web-lg==3.6.0) (4.65.0)\n",
      "Requirement already satisfied: preshed<3.1.0,>=3.0.2 in d:\\ds_projects\\project_1\\env\\lib\\site-packages (from spacy<3.7.0,>=3.6.0->en-core-web-lg==3.6.0) (3.0.8)\n",
      "Requirement already satisfied: spacy-loggers<2.0.0,>=1.0.0 in d:\\ds_projects\\project_1\\env\\lib\\site-packages (from spacy<3.7.0,>=3.6.0->en-core-web-lg==3.6.0) (1.0.4)\n",
      "Requirement already satisfied: pydantic!=1.8,!=1.8.1,<3.0.0,>=1.7.4 in d:\\ds_projects\\project_1\\env\\lib\\site-packages (from spacy<3.7.0,>=3.6.0->en-core-web-lg==3.6.0) (2.2.1)\n",
      "Requirement already satisfied: setuptools in d:\\ds_projects\\project_1\\env\\lib\\site-packages (from spacy<3.7.0,>=3.6.0->en-core-web-lg==3.6.0) (65.6.3)\n",
      "Requirement already satisfied: pathy>=0.10.0 in d:\\ds_projects\\project_1\\env\\lib\\site-packages (from spacy<3.7.0,>=3.6.0->en-core-web-lg==3.6.0) (0.10.2)\n",
      "Requirement already satisfied: requests<3.0.0,>=2.13.0 in d:\\ds_projects\\project_1\\env\\lib\\site-packages (from spacy<3.7.0,>=3.6.0->en-core-web-lg==3.6.0) (2.28.1)\n",
      "Requirement already satisfied: numpy>=1.15.0 in d:\\ds_projects\\project_1\\env\\lib\\site-packages (from spacy<3.7.0,>=3.6.0->en-core-web-lg==3.6.0) (1.23.5)\n",
      "Requirement already satisfied: thinc<8.2.0,>=8.1.8 in d:\\ds_projects\\project_1\\env\\lib\\site-packages (from spacy<3.7.0,>=3.6.0->en-core-web-lg==3.6.0) (8.1.12)\n",
      "Requirement already satisfied: murmurhash<1.1.0,>=0.28.0 in d:\\ds_projects\\project_1\\env\\lib\\site-packages (from spacy<3.7.0,>=3.6.0->en-core-web-lg==3.6.0) (1.0.9)\n",
      "Requirement already satisfied: spacy-legacy<3.1.0,>=3.0.11 in d:\\ds_projects\\project_1\\env\\lib\\site-packages (from spacy<3.7.0,>=3.6.0->en-core-web-lg==3.6.0) (3.0.12)\n",
      "Requirement already satisfied: annotated-types>=0.4.0 in d:\\ds_projects\\project_1\\env\\lib\\site-packages (from pydantic!=1.8,!=1.8.1,<3.0.0,>=1.7.4->spacy<3.7.0,>=3.6.0->en-core-web-lg==3.6.0) (0.5.0)\n",
      "Requirement already satisfied: typing-extensions>=4.6.1 in d:\\ds_projects\\project_1\\env\\lib\\site-packages (from pydantic!=1.8,!=1.8.1,<3.0.0,>=1.7.4->spacy<3.7.0,>=3.6.0->en-core-web-lg==3.6.0) (4.7.1)\n",
      "Requirement already satisfied: pydantic-core==2.6.1 in d:\\ds_projects\\project_1\\env\\lib\\site-packages (from pydantic!=1.8,!=1.8.1,<3.0.0,>=1.7.4->spacy<3.7.0,>=3.6.0->en-core-web-lg==3.6.0) (2.6.1)\n",
      "Requirement already satisfied: charset-normalizer<3,>=2 in d:\\ds_projects\\project_1\\env\\lib\\site-packages (from requests<3.0.0,>=2.13.0->spacy<3.7.0,>=3.6.0->en-core-web-lg==3.6.0) (2.0.4)\n",
      "Requirement already satisfied: idna<4,>=2.5 in d:\\ds_projects\\project_1\\env\\lib\\site-packages (from requests<3.0.0,>=2.13.0->spacy<3.7.0,>=3.6.0->en-core-web-lg==3.6.0) (3.4)\n",
      "Requirement already satisfied: certifi>=2017.4.17 in d:\\ds_projects\\project_1\\env\\lib\\site-packages (from requests<3.0.0,>=2.13.0->spacy<3.7.0,>=3.6.0->en-core-web-lg==3.6.0) (2023.5.7)\n",
      "Requirement already satisfied: urllib3<1.27,>=1.21.1 in d:\\ds_projects\\project_1\\env\\lib\\site-packages (from requests<3.0.0,>=2.13.0->spacy<3.7.0,>=3.6.0->en-core-web-lg==3.6.0) (1.26.14)\n",
      "Requirement already satisfied: blis<0.8.0,>=0.7.8 in d:\\ds_projects\\project_1\\env\\lib\\site-packages (from thinc<8.2.0,>=8.1.8->spacy<3.7.0,>=3.6.0->en-core-web-lg==3.6.0) (0.7.10)\n",
      "Requirement already satisfied: confection<1.0.0,>=0.0.1 in d:\\ds_projects\\project_1\\env\\lib\\site-packages (from thinc<8.2.0,>=8.1.8->spacy<3.7.0,>=3.6.0->en-core-web-lg==3.6.0) (0.1.1)\n",
      "Requirement already satisfied: colorama in d:\\ds_projects\\project_1\\env\\lib\\site-packages (from tqdm<5.0.0,>=4.38.0->spacy<3.7.0,>=3.6.0->en-core-web-lg==3.6.0) (0.4.6)\n",
      "Requirement already satisfied: click<9.0.0,>=7.1.1 in d:\\ds_projects\\project_1\\env\\lib\\site-packages (from typer<0.10.0,>=0.3.0->spacy<3.7.0,>=3.6.0->en-core-web-lg==3.6.0) (8.1.3)\n",
      "Requirement already satisfied: MarkupSafe>=2.0 in d:\\ds_projects\\project_1\\env\\lib\\site-packages (from jinja2->spacy<3.7.0,>=3.6.0->en-core-web-lg==3.6.0) (2.1.1)\n",
      "Installing collected packages: en-core-web-lg\n",
      "Successfully installed en-core-web-lg-3.6.0\n",
      "\u001b[38;5;2m[+] Download and installation successful\u001b[0m\n",
      "You can now load the package via spacy.load('en_core_web_lg')\n"
     ]
    }
   ],
   "source": [
    "!python -m spacy download en_core_web_lg\n"
   ]
  },
  {
   "cell_type": "code",
   "execution_count": 16,
   "id": "8d7824f3",
   "metadata": {},
   "outputs": [
    {
     "name": "stdout",
     "output_type": "stream",
     "text": [
      "Collecting en-core-web-sm==3.6.0\n",
      "  Downloading https://github.com/explosion/spacy-models/releases/download/en_core_web_sm-3.6.0/en_core_web_sm-3.6.0-py3-none-any.whl (12.8 MB)\n",
      "     ---------------------------------------- 12.8/12.8 MB 4.9 MB/s eta 0:00:00\n",
      "Requirement already satisfied: spacy<3.7.0,>=3.6.0 in d:\\ds_projects\\project_1\\env\\lib\\site-packages (from en-core-web-sm==3.6.0) (3.6.1)\n",
      "Requirement already satisfied: pydantic!=1.8,!=1.8.1,<3.0.0,>=1.7.4 in d:\\ds_projects\\project_1\\env\\lib\\site-packages (from spacy<3.7.0,>=3.6.0->en-core-web-sm==3.6.0) (2.2.1)\n",
      "Requirement already satisfied: smart-open<7.0.0,>=5.2.1 in d:\\ds_projects\\project_1\\env\\lib\\site-packages (from spacy<3.7.0,>=3.6.0->en-core-web-sm==3.6.0) (6.3.0)\n",
      "Requirement already satisfied: spacy-legacy<3.1.0,>=3.0.11 in d:\\ds_projects\\project_1\\env\\lib\\site-packages (from spacy<3.7.0,>=3.6.0->en-core-web-sm==3.6.0) (3.0.12)\n",
      "Requirement already satisfied: jinja2 in d:\\ds_projects\\project_1\\env\\lib\\site-packages (from spacy<3.7.0,>=3.6.0->en-core-web-sm==3.6.0) (3.1.2)\n",
      "Requirement already satisfied: preshed<3.1.0,>=3.0.2 in d:\\ds_projects\\project_1\\env\\lib\\site-packages (from spacy<3.7.0,>=3.6.0->en-core-web-sm==3.6.0) (3.0.8)\n",
      "Requirement already satisfied: setuptools in d:\\ds_projects\\project_1\\env\\lib\\site-packages (from spacy<3.7.0,>=3.6.0->en-core-web-sm==3.6.0) (65.6.3)\n",
      "Requirement already satisfied: catalogue<2.1.0,>=2.0.6 in d:\\ds_projects\\project_1\\env\\lib\\site-packages (from spacy<3.7.0,>=3.6.0->en-core-web-sm==3.6.0) (2.0.9)\n",
      "Requirement already satisfied: typer<0.10.0,>=0.3.0 in d:\\ds_projects\\project_1\\env\\lib\\site-packages (from spacy<3.7.0,>=3.6.0->en-core-web-sm==3.6.0) (0.9.0)\n",
      "Requirement already satisfied: wasabi<1.2.0,>=0.9.1 in d:\\ds_projects\\project_1\\env\\lib\\site-packages (from spacy<3.7.0,>=3.6.0->en-core-web-sm==3.6.0) (1.1.2)\n",
      "Requirement already satisfied: numpy>=1.15.0 in d:\\ds_projects\\project_1\\env\\lib\\site-packages (from spacy<3.7.0,>=3.6.0->en-core-web-sm==3.6.0) (1.23.5)\n",
      "Requirement already satisfied: thinc<8.2.0,>=8.1.8 in d:\\ds_projects\\project_1\\env\\lib\\site-packages (from spacy<3.7.0,>=3.6.0->en-core-web-sm==3.6.0) (8.1.12)\n",
      "Requirement already satisfied: pathy>=0.10.0 in d:\\ds_projects\\project_1\\env\\lib\\site-packages (from spacy<3.7.0,>=3.6.0->en-core-web-sm==3.6.0) (0.10.2)\n",
      "Requirement already satisfied: murmurhash<1.1.0,>=0.28.0 in d:\\ds_projects\\project_1\\env\\lib\\site-packages (from spacy<3.7.0,>=3.6.0->en-core-web-sm==3.6.0) (1.0.9)\n",
      "Requirement already satisfied: cymem<2.1.0,>=2.0.2 in d:\\ds_projects\\project_1\\env\\lib\\site-packages (from spacy<3.7.0,>=3.6.0->en-core-web-sm==3.6.0) (2.0.7)\n",
      "Requirement already satisfied: spacy-loggers<2.0.0,>=1.0.0 in d:\\ds_projects\\project_1\\env\\lib\\site-packages (from spacy<3.7.0,>=3.6.0->en-core-web-sm==3.6.0) (1.0.4)\n",
      "Requirement already satisfied: requests<3.0.0,>=2.13.0 in d:\\ds_projects\\project_1\\env\\lib\\site-packages (from spacy<3.7.0,>=3.6.0->en-core-web-sm==3.6.0) (2.28.1)\n",
      "Requirement already satisfied: tqdm<5.0.0,>=4.38.0 in d:\\ds_projects\\project_1\\env\\lib\\site-packages (from spacy<3.7.0,>=3.6.0->en-core-web-sm==3.6.0) (4.65.0)\n",
      "Requirement already satisfied: langcodes<4.0.0,>=3.2.0 in d:\\ds_projects\\project_1\\env\\lib\\site-packages (from spacy<3.7.0,>=3.6.0->en-core-web-sm==3.6.0) (3.3.0)\n",
      "Requirement already satisfied: srsly<3.0.0,>=2.4.3 in d:\\ds_projects\\project_1\\env\\lib\\site-packages (from spacy<3.7.0,>=3.6.0->en-core-web-sm==3.6.0) (2.4.7)\n",
      "Requirement already satisfied: packaging>=20.0 in d:\\ds_projects\\project_1\\env\\lib\\site-packages (from spacy<3.7.0,>=3.6.0->en-core-web-sm==3.6.0) (22.0)\n",
      "Requirement already satisfied: pydantic-core==2.6.1 in d:\\ds_projects\\project_1\\env\\lib\\site-packages (from pydantic!=1.8,!=1.8.1,<3.0.0,>=1.7.4->spacy<3.7.0,>=3.6.0->en-core-web-sm==3.6.0) (2.6.1)\n",
      "Requirement already satisfied: typing-extensions>=4.6.1 in d:\\ds_projects\\project_1\\env\\lib\\site-packages (from pydantic!=1.8,!=1.8.1,<3.0.0,>=1.7.4->spacy<3.7.0,>=3.6.0->en-core-web-sm==3.6.0) (4.7.1)\n",
      "Requirement already satisfied: annotated-types>=0.4.0 in d:\\ds_projects\\project_1\\env\\lib\\site-packages (from pydantic!=1.8,!=1.8.1,<3.0.0,>=1.7.4->spacy<3.7.0,>=3.6.0->en-core-web-sm==3.6.0) (0.5.0)\n",
      "Requirement already satisfied: idna<4,>=2.5 in d:\\ds_projects\\project_1\\env\\lib\\site-packages (from requests<3.0.0,>=2.13.0->spacy<3.7.0,>=3.6.0->en-core-web-sm==3.6.0) (3.4)\n",
      "Requirement already satisfied: urllib3<1.27,>=1.21.1 in d:\\ds_projects\\project_1\\env\\lib\\site-packages (from requests<3.0.0,>=2.13.0->spacy<3.7.0,>=3.6.0->en-core-web-sm==3.6.0) (1.26.14)\n",
      "Requirement already satisfied: charset-normalizer<3,>=2 in d:\\ds_projects\\project_1\\env\\lib\\site-packages (from requests<3.0.0,>=2.13.0->spacy<3.7.0,>=3.6.0->en-core-web-sm==3.6.0) (2.0.4)\n",
      "Requirement already satisfied: certifi>=2017.4.17 in d:\\ds_projects\\project_1\\env\\lib\\site-packages (from requests<3.0.0,>=2.13.0->spacy<3.7.0,>=3.6.0->en-core-web-sm==3.6.0) (2023.5.7)\n",
      "Requirement already satisfied: confection<1.0.0,>=0.0.1 in d:\\ds_projects\\project_1\\env\\lib\\site-packages (from thinc<8.2.0,>=8.1.8->spacy<3.7.0,>=3.6.0->en-core-web-sm==3.6.0) (0.1.1)\n",
      "Requirement already satisfied: blis<0.8.0,>=0.7.8 in d:\\ds_projects\\project_1\\env\\lib\\site-packages (from thinc<8.2.0,>=8.1.8->spacy<3.7.0,>=3.6.0->en-core-web-sm==3.6.0) (0.7.10)\n",
      "Requirement already satisfied: colorama in d:\\ds_projects\\project_1\\env\\lib\\site-packages (from tqdm<5.0.0,>=4.38.0->spacy<3.7.0,>=3.6.0->en-core-web-sm==3.6.0) (0.4.6)\n",
      "Requirement already satisfied: click<9.0.0,>=7.1.1 in d:\\ds_projects\\project_1\\env\\lib\\site-packages (from typer<0.10.0,>=0.3.0->spacy<3.7.0,>=3.6.0->en-core-web-sm==3.6.0) (8.1.3)\n",
      "Requirement already satisfied: MarkupSafe>=2.0 in d:\\ds_projects\\project_1\\env\\lib\\site-packages (from jinja2->spacy<3.7.0,>=3.6.0->en-core-web-sm==3.6.0) (2.1.1)\n",
      "Installing collected packages: en-core-web-sm\n",
      "Successfully installed en-core-web-sm-3.6.0\n",
      "\u001b[38;5;2m[+] Download and installation successful\u001b[0m\n",
      "You can now load the package via spacy.load('en_core_web_sm')\n"
     ]
    }
   ],
   "source": [
    "!python -m spacy download en_core_web_sm\n"
   ]
  },
  {
   "cell_type": "code",
   "execution_count": 17,
   "id": "eace0346",
   "metadata": {},
   "outputs": [],
   "source": [
    "nlp = spacy.load('en_core_web_sm')"
   ]
  },
  {
   "cell_type": "code",
   "execution_count": 15,
   "id": "7060003f",
   "metadata": {},
   "outputs": [
    {
     "name": "stdout",
     "output_type": "stream",
     "text": [
      "D:\\ds_projects\\project_1\\env\\lib\\site-packages\\spacy\\__init__.py\n"
     ]
    }
   ],
   "source": [
    "print(spacy.__file__)"
   ]
  },
  {
   "cell_type": "code",
   "execution_count": 18,
   "id": "fbd935ab",
   "metadata": {},
   "outputs": [
    {
     "name": "stderr",
     "output_type": "stream",
     "text": [
      "100%|█████████████████████████████████████████████████████████████████████████| 404290/404290 [30:32<00:00, 220.66it/s]\n"
     ]
    }
   ],
   "source": [
    "vecs1 = []\n",
    "# https://github.com/noamraph/tqdm\n",
    "# tqdm is used to print the progrss bar\n",
    "for qu1 in tqdm(list(df['question1'])):\n",
    "    doc1 = nlp(qu1) \n",
    "    mean_vec1 = np.zeros([len(doc1), len(doc1[0].vector)])\n",
    "    for word1 in doc1:\n",
    "        # word2vec\n",
    "        vec1 = word1.vector\n",
    "        # fetch df score\n",
    "        try:\n",
    "            idf = word2tfidf[str(word1)]\n",
    "        except:\n",
    "            idf = 0\n",
    "        # compute final vec\n",
    "        mean_vec1 += vec1 * idf\n",
    "    mean_vec1 = mean_vec1.mean(axis=0)\n",
    "    vecs1.append(mean_vec1)\n",
    "df['q1_feats_m'] = list(vecs1)"
   ]
  },
  {
   "cell_type": "code",
   "execution_count": 20,
   "id": "8356bbe3",
   "metadata": {},
   "outputs": [
    {
     "name": "stderr",
     "output_type": "stream",
     "text": [
      "100%|█████████████████████████████████████████████████████████████████████████| 404290/404290 [40:19<00:00, 167.12it/s]\n"
     ]
    }
   ],
   "source": [
    "vecs2 = []\n",
    "for qu2 in tqdm(list(df['question2'])):\n",
    "    doc2 = nlp(qu2) \n",
    "    mean_vec2 = np.zeros([len(doc1), len(doc2[0].vector)])\n",
    "    for word2 in doc2:\n",
    "        # word2vec\n",
    "        vec2 = word2.vector\n",
    "        # fetch df score\n",
    "        try:\n",
    "            idf = word2tfidf[str(word2)]\n",
    "        except:\n",
    "            #print word\n",
    "            idf = 0\n",
    "        # compute final vec\n",
    "        mean_vec2 += vec2 * idf\n",
    "    mean_vec2 = mean_vec2.mean(axis=0)\n",
    "    vecs2.append(mean_vec2)\n",
    "df['q2_feats_m'] = list(vecs2)"
   ]
  },
  {
   "cell_type": "code",
   "execution_count": 25,
   "id": "855c5e69",
   "metadata": {},
   "outputs": [
    {
     "data": {
      "text/plain": [
       "(404290,)"
      ]
     },
     "execution_count": 25,
     "metadata": {},
     "output_type": "execute_result"
    }
   ],
   "source": [
    "df.q1_feats_m.shape"
   ]
  },
  {
   "cell_type": "code",
   "execution_count": 26,
   "id": "d955f06c",
   "metadata": {},
   "outputs": [],
   "source": [
    "df1=pd.read_csv(\"data/nlp_features_train.csv\")"
   ]
  },
  {
   "cell_type": "code",
   "execution_count": 27,
   "id": "52bd8f9e",
   "metadata": {},
   "outputs": [
    {
     "data": {
      "text/html": [
       "<div>\n",
       "<style scoped>\n",
       "    .dataframe tbody tr th:only-of-type {\n",
       "        vertical-align: middle;\n",
       "    }\n",
       "\n",
       "    .dataframe tbody tr th {\n",
       "        vertical-align: top;\n",
       "    }\n",
       "\n",
       "    .dataframe thead th {\n",
       "        text-align: right;\n",
       "    }\n",
       "</style>\n",
       "<table border=\"1\" class=\"dataframe\">\n",
       "  <thead>\n",
       "    <tr style=\"text-align: right;\">\n",
       "      <th></th>\n",
       "      <th>Unnamed: 0</th>\n",
       "      <th>id</th>\n",
       "      <th>qid1</th>\n",
       "      <th>qid2</th>\n",
       "      <th>question1</th>\n",
       "      <th>question2</th>\n",
       "      <th>is_duplicate</th>\n",
       "      <th>freq_qid1</th>\n",
       "      <th>freq_qid2</th>\n",
       "      <th>q1_len</th>\n",
       "      <th>...</th>\n",
       "      <th>ctc_max</th>\n",
       "      <th>last_word_eq</th>\n",
       "      <th>first_word_eq</th>\n",
       "      <th>abs_len_diff</th>\n",
       "      <th>mean_len</th>\n",
       "      <th>token_set_ratio</th>\n",
       "      <th>token_sort_ratio</th>\n",
       "      <th>fuzz_ratio</th>\n",
       "      <th>fuzz_partial_ratio</th>\n",
       "      <th>longest_substr_ratio</th>\n",
       "    </tr>\n",
       "  </thead>\n",
       "  <tbody>\n",
       "    <tr>\n",
       "      <th>0</th>\n",
       "      <td>0</td>\n",
       "      <td>0</td>\n",
       "      <td>1</td>\n",
       "      <td>2</td>\n",
       "      <td>What is the step by step guide to invest in sh...</td>\n",
       "      <td>What is the step by step guide to invest in sh...</td>\n",
       "      <td>0</td>\n",
       "      <td>1</td>\n",
       "      <td>1</td>\n",
       "      <td>66</td>\n",
       "      <td>...</td>\n",
       "      <td>0.714276</td>\n",
       "      <td>0.0</td>\n",
       "      <td>1.0</td>\n",
       "      <td>1.0</td>\n",
       "      <td>6.5</td>\n",
       "      <td>100</td>\n",
       "      <td>92</td>\n",
       "      <td>92</td>\n",
       "      <td>100</td>\n",
       "      <td>0.971429</td>\n",
       "    </tr>\n",
       "  </tbody>\n",
       "</table>\n",
       "<p>1 rows × 35 columns</p>\n",
       "</div>"
      ],
      "text/plain": [
       "   Unnamed: 0  id  qid1  qid2  \\\n",
       "0           0   0     1     2   \n",
       "\n",
       "                                           question1  \\\n",
       "0  What is the step by step guide to invest in sh...   \n",
       "\n",
       "                                           question2  is_duplicate  freq_qid1  \\\n",
       "0  What is the step by step guide to invest in sh...             0          1   \n",
       "\n",
       "   freq_qid2  q1_len  ...   ctc_max  last_word_eq  first_word_eq  \\\n",
       "0          1      66  ...  0.714276           0.0            1.0   \n",
       "\n",
       "   abs_len_diff  mean_len  token_set_ratio  token_sort_ratio  fuzz_ratio  \\\n",
       "0           1.0       6.5              100                92          92   \n",
       "\n",
       "  fuzz_partial_ratio longest_substr_ratio  \n",
       "0                100             0.971429  \n",
       "\n",
       "[1 rows x 35 columns]"
      ]
     },
     "execution_count": 27,
     "metadata": {},
     "output_type": "execute_result"
    }
   ],
   "source": [
    "df1.head(1)"
   ]
  },
  {
   "cell_type": "code",
   "execution_count": 28,
   "id": "7fd0487a",
   "metadata": {},
   "outputs": [],
   "source": [
    "df3_q1 = pd.DataFrame(df.q1_feats_m.values.tolist(), index= df.index)\n"
   ]
  },
  {
   "cell_type": "code",
   "execution_count": 29,
   "id": "e8bfccb3",
   "metadata": {},
   "outputs": [
    {
     "data": {
      "text/html": [
       "<div>\n",
       "<style scoped>\n",
       "    .dataframe tbody tr th:only-of-type {\n",
       "        vertical-align: middle;\n",
       "    }\n",
       "\n",
       "    .dataframe tbody tr th {\n",
       "        vertical-align: top;\n",
       "    }\n",
       "\n",
       "    .dataframe thead th {\n",
       "        text-align: right;\n",
       "    }\n",
       "</style>\n",
       "<table border=\"1\" class=\"dataframe\">\n",
       "  <thead>\n",
       "    <tr style=\"text-align: right;\">\n",
       "      <th></th>\n",
       "      <th>0</th>\n",
       "      <th>1</th>\n",
       "      <th>2</th>\n",
       "      <th>3</th>\n",
       "      <th>4</th>\n",
       "      <th>5</th>\n",
       "      <th>6</th>\n",
       "      <th>7</th>\n",
       "      <th>8</th>\n",
       "      <th>9</th>\n",
       "      <th>...</th>\n",
       "      <th>86</th>\n",
       "      <th>87</th>\n",
       "      <th>88</th>\n",
       "      <th>89</th>\n",
       "      <th>90</th>\n",
       "      <th>91</th>\n",
       "      <th>92</th>\n",
       "      <th>93</th>\n",
       "      <th>94</th>\n",
       "      <th>95</th>\n",
       "    </tr>\n",
       "  </thead>\n",
       "  <tbody>\n",
       "    <tr>\n",
       "      <th>0</th>\n",
       "      <td>16.463361</td>\n",
       "      <td>-45.934091</td>\n",
       "      <td>9.832647</td>\n",
       "      <td>-19.447243</td>\n",
       "      <td>16.256219</td>\n",
       "      <td>-11.408626</td>\n",
       "      <td>45.781352</td>\n",
       "      <td>33.793397</td>\n",
       "      <td>-0.682307</td>\n",
       "      <td>10.741596</td>\n",
       "      <td>...</td>\n",
       "      <td>10.027314</td>\n",
       "      <td>-33.372701</td>\n",
       "      <td>-48.610679</td>\n",
       "      <td>23.520850</td>\n",
       "      <td>-20.693862</td>\n",
       "      <td>9.707474</td>\n",
       "      <td>44.017382</td>\n",
       "      <td>68.670248</td>\n",
       "      <td>-17.080289</td>\n",
       "      <td>33.657361</td>\n",
       "    </tr>\n",
       "    <tr>\n",
       "      <th>1</th>\n",
       "      <td>-15.513324</td>\n",
       "      <td>-26.773417</td>\n",
       "      <td>22.476599</td>\n",
       "      <td>38.939703</td>\n",
       "      <td>31.664113</td>\n",
       "      <td>11.493576</td>\n",
       "      <td>18.258106</td>\n",
       "      <td>56.702155</td>\n",
       "      <td>3.560213</td>\n",
       "      <td>-46.756693</td>\n",
       "      <td>...</td>\n",
       "      <td>-6.072477</td>\n",
       "      <td>23.089771</td>\n",
       "      <td>-38.483047</td>\n",
       "      <td>35.745365</td>\n",
       "      <td>-14.073059</td>\n",
       "      <td>7.308269</td>\n",
       "      <td>89.132784</td>\n",
       "      <td>3.295301</td>\n",
       "      <td>0.226582</td>\n",
       "      <td>88.639381</td>\n",
       "    </tr>\n",
       "    <tr>\n",
       "      <th>2</th>\n",
       "      <td>-17.676359</td>\n",
       "      <td>-9.333410</td>\n",
       "      <td>-9.743485</td>\n",
       "      <td>-9.513854</td>\n",
       "      <td>9.613585</td>\n",
       "      <td>-14.764669</td>\n",
       "      <td>23.965156</td>\n",
       "      <td>13.467987</td>\n",
       "      <td>-18.925062</td>\n",
       "      <td>2.744790</td>\n",
       "      <td>...</td>\n",
       "      <td>28.016300</td>\n",
       "      <td>-0.865168</td>\n",
       "      <td>-24.250924</td>\n",
       "      <td>15.859977</td>\n",
       "      <td>-19.880628</td>\n",
       "      <td>-20.721368</td>\n",
       "      <td>28.209778</td>\n",
       "      <td>41.850917</td>\n",
       "      <td>-17.749369</td>\n",
       "      <td>30.532829</td>\n",
       "    </tr>\n",
       "    <tr>\n",
       "      <th>3</th>\n",
       "      <td>61.410205</td>\n",
       "      <td>-18.528259</td>\n",
       "      <td>-11.641798</td>\n",
       "      <td>-12.944759</td>\n",
       "      <td>-25.763738</td>\n",
       "      <td>-20.467962</td>\n",
       "      <td>12.122635</td>\n",
       "      <td>10.075653</td>\n",
       "      <td>16.520064</td>\n",
       "      <td>-7.103116</td>\n",
       "      <td>...</td>\n",
       "      <td>-16.086364</td>\n",
       "      <td>-1.919414</td>\n",
       "      <td>3.626954</td>\n",
       "      <td>42.526902</td>\n",
       "      <td>48.064342</td>\n",
       "      <td>-28.988905</td>\n",
       "      <td>29.753628</td>\n",
       "      <td>27.724032</td>\n",
       "      <td>1.117211</td>\n",
       "      <td>15.843518</td>\n",
       "    </tr>\n",
       "    <tr>\n",
       "      <th>4</th>\n",
       "      <td>-16.935533</td>\n",
       "      <td>-43.565446</td>\n",
       "      <td>-0.564583</td>\n",
       "      <td>-44.367033</td>\n",
       "      <td>-40.639765</td>\n",
       "      <td>15.802749</td>\n",
       "      <td>47.420133</td>\n",
       "      <td>79.964139</td>\n",
       "      <td>12.941914</td>\n",
       "      <td>-13.307732</td>\n",
       "      <td>...</td>\n",
       "      <td>-12.924408</td>\n",
       "      <td>-15.566424</td>\n",
       "      <td>-51.009173</td>\n",
       "      <td>103.080679</td>\n",
       "      <td>-26.997227</td>\n",
       "      <td>34.913599</td>\n",
       "      <td>89.270781</td>\n",
       "      <td>76.832059</td>\n",
       "      <td>5.808165</td>\n",
       "      <td>89.445575</td>\n",
       "    </tr>\n",
       "  </tbody>\n",
       "</table>\n",
       "<p>5 rows × 96 columns</p>\n",
       "</div>"
      ],
      "text/plain": [
       "          0          1          2          3          4          5   \\\n",
       "0  16.463361 -45.934091   9.832647 -19.447243  16.256219 -11.408626   \n",
       "1 -15.513324 -26.773417  22.476599  38.939703  31.664113  11.493576   \n",
       "2 -17.676359  -9.333410  -9.743485  -9.513854   9.613585 -14.764669   \n",
       "3  61.410205 -18.528259 -11.641798 -12.944759 -25.763738 -20.467962   \n",
       "4 -16.935533 -43.565446  -0.564583 -44.367033 -40.639765  15.802749   \n",
       "\n",
       "          6          7          8          9   ...         86         87  \\\n",
       "0  45.781352  33.793397  -0.682307  10.741596  ...  10.027314 -33.372701   \n",
       "1  18.258106  56.702155   3.560213 -46.756693  ...  -6.072477  23.089771   \n",
       "2  23.965156  13.467987 -18.925062   2.744790  ...  28.016300  -0.865168   \n",
       "3  12.122635  10.075653  16.520064  -7.103116  ... -16.086364  -1.919414   \n",
       "4  47.420133  79.964139  12.941914 -13.307732  ... -12.924408 -15.566424   \n",
       "\n",
       "          88          89         90         91         92         93  \\\n",
       "0 -48.610679   23.520850 -20.693862   9.707474  44.017382  68.670248   \n",
       "1 -38.483047   35.745365 -14.073059   7.308269  89.132784   3.295301   \n",
       "2 -24.250924   15.859977 -19.880628 -20.721368  28.209778  41.850917   \n",
       "3   3.626954   42.526902  48.064342 -28.988905  29.753628  27.724032   \n",
       "4 -51.009173  103.080679 -26.997227  34.913599  89.270781  76.832059   \n",
       "\n",
       "          94         95  \n",
       "0 -17.080289  33.657361  \n",
       "1   0.226582  88.639381  \n",
       "2 -17.749369  30.532829  \n",
       "3   1.117211  15.843518  \n",
       "4   5.808165  89.445575  \n",
       "\n",
       "[5 rows x 96 columns]"
      ]
     },
     "execution_count": 29,
     "metadata": {},
     "output_type": "execute_result"
    }
   ],
   "source": [
    "df3_q1.head()"
   ]
  },
  {
   "cell_type": "code",
   "execution_count": 30,
   "id": "e108352b",
   "metadata": {},
   "outputs": [],
   "source": [
    "df3_q2 = pd.DataFrame(df.q2_feats_m.values.tolist(), index= df.index)\n"
   ]
  },
  {
   "cell_type": "code",
   "execution_count": 31,
   "id": "dbccfe56",
   "metadata": {},
   "outputs": [
    {
     "data": {
      "text/html": [
       "<div>\n",
       "<style scoped>\n",
       "    .dataframe tbody tr th:only-of-type {\n",
       "        vertical-align: middle;\n",
       "    }\n",
       "\n",
       "    .dataframe tbody tr th {\n",
       "        vertical-align: top;\n",
       "    }\n",
       "\n",
       "    .dataframe thead th {\n",
       "        text-align: right;\n",
       "    }\n",
       "</style>\n",
       "<table border=\"1\" class=\"dataframe\">\n",
       "  <thead>\n",
       "    <tr style=\"text-align: right;\">\n",
       "      <th></th>\n",
       "      <th>0</th>\n",
       "      <th>1</th>\n",
       "      <th>2</th>\n",
       "      <th>3</th>\n",
       "      <th>4</th>\n",
       "      <th>5</th>\n",
       "      <th>6</th>\n",
       "      <th>7</th>\n",
       "      <th>8</th>\n",
       "      <th>9</th>\n",
       "      <th>...</th>\n",
       "      <th>86</th>\n",
       "      <th>87</th>\n",
       "      <th>88</th>\n",
       "      <th>89</th>\n",
       "      <th>90</th>\n",
       "      <th>91</th>\n",
       "      <th>92</th>\n",
       "      <th>93</th>\n",
       "      <th>94</th>\n",
       "      <th>95</th>\n",
       "    </tr>\n",
       "  </thead>\n",
       "  <tbody>\n",
       "    <tr>\n",
       "      <th>0</th>\n",
       "      <td>17.591981</td>\n",
       "      <td>-45.190796</td>\n",
       "      <td>5.264223</td>\n",
       "      <td>-16.323098</td>\n",
       "      <td>8.937831</td>\n",
       "      <td>-9.328999</td>\n",
       "      <td>39.247610</td>\n",
       "      <td>41.735712</td>\n",
       "      <td>-10.110290</td>\n",
       "      <td>13.893757</td>\n",
       "      <td>...</td>\n",
       "      <td>12.478954</td>\n",
       "      <td>-30.068915</td>\n",
       "      <td>-47.913707</td>\n",
       "      <td>14.714811</td>\n",
       "      <td>-17.241791</td>\n",
       "      <td>6.486735</td>\n",
       "      <td>26.456941</td>\n",
       "      <td>63.701761</td>\n",
       "      <td>-17.887825</td>\n",
       "      <td>21.516744</td>\n",
       "    </tr>\n",
       "    <tr>\n",
       "      <th>1</th>\n",
       "      <td>-22.684552</td>\n",
       "      <td>-72.190479</td>\n",
       "      <td>-6.707384</td>\n",
       "      <td>36.345242</td>\n",
       "      <td>8.030883</td>\n",
       "      <td>-5.487780</td>\n",
       "      <td>8.623339</td>\n",
       "      <td>36.662616</td>\n",
       "      <td>-7.383572</td>\n",
       "      <td>-39.861679</td>\n",
       "      <td>...</td>\n",
       "      <td>4.830299</td>\n",
       "      <td>19.611342</td>\n",
       "      <td>-35.900325</td>\n",
       "      <td>45.733032</td>\n",
       "      <td>-2.857659</td>\n",
       "      <td>5.916804</td>\n",
       "      <td>82.456646</td>\n",
       "      <td>34.427442</td>\n",
       "      <td>-0.153906</td>\n",
       "      <td>83.436959</td>\n",
       "    </tr>\n",
       "    <tr>\n",
       "      <th>2</th>\n",
       "      <td>5.474987</td>\n",
       "      <td>-16.175602</td>\n",
       "      <td>-6.273927</td>\n",
       "      <td>1.055980</td>\n",
       "      <td>-22.802814</td>\n",
       "      <td>-1.355439</td>\n",
       "      <td>16.201962</td>\n",
       "      <td>32.944554</td>\n",
       "      <td>-4.630614</td>\n",
       "      <td>6.233720</td>\n",
       "      <td>...</td>\n",
       "      <td>51.079299</td>\n",
       "      <td>-11.944445</td>\n",
       "      <td>-51.070310</td>\n",
       "      <td>12.397111</td>\n",
       "      <td>-19.068659</td>\n",
       "      <td>-5.625129</td>\n",
       "      <td>48.529716</td>\n",
       "      <td>48.813838</td>\n",
       "      <td>-6.016333</td>\n",
       "      <td>10.582172</td>\n",
       "    </tr>\n",
       "    <tr>\n",
       "      <th>3</th>\n",
       "      <td>19.534105</td>\n",
       "      <td>-15.777413</td>\n",
       "      <td>-6.863119</td>\n",
       "      <td>4.812232</td>\n",
       "      <td>-29.383081</td>\n",
       "      <td>-6.756101</td>\n",
       "      <td>-7.505578</td>\n",
       "      <td>0.548617</td>\n",
       "      <td>-17.597086</td>\n",
       "      <td>-14.904720</td>\n",
       "      <td>...</td>\n",
       "      <td>22.016934</td>\n",
       "      <td>8.856643</td>\n",
       "      <td>-6.845009</td>\n",
       "      <td>22.816601</td>\n",
       "      <td>0.418034</td>\n",
       "      <td>-18.978339</td>\n",
       "      <td>9.303711</td>\n",
       "      <td>41.359689</td>\n",
       "      <td>4.616394</td>\n",
       "      <td>32.863481</td>\n",
       "    </tr>\n",
       "    <tr>\n",
       "      <th>4</th>\n",
       "      <td>-10.295480</td>\n",
       "      <td>-31.240737</td>\n",
       "      <td>10.990946</td>\n",
       "      <td>0.656096</td>\n",
       "      <td>-23.303609</td>\n",
       "      <td>-3.377757</td>\n",
       "      <td>30.301439</td>\n",
       "      <td>16.654266</td>\n",
       "      <td>-0.161807</td>\n",
       "      <td>-3.671974</td>\n",
       "      <td>...</td>\n",
       "      <td>-3.956318</td>\n",
       "      <td>-13.591868</td>\n",
       "      <td>-26.024702</td>\n",
       "      <td>13.573341</td>\n",
       "      <td>-10.809346</td>\n",
       "      <td>-2.419427</td>\n",
       "      <td>35.918892</td>\n",
       "      <td>36.435138</td>\n",
       "      <td>-10.428509</td>\n",
       "      <td>16.641590</td>\n",
       "    </tr>\n",
       "  </tbody>\n",
       "</table>\n",
       "<p>5 rows × 96 columns</p>\n",
       "</div>"
      ],
      "text/plain": [
       "          0          1          2          3          4         5          6   \\\n",
       "0  17.591981 -45.190796   5.264223 -16.323098   8.937831 -9.328999  39.247610   \n",
       "1 -22.684552 -72.190479  -6.707384  36.345242   8.030883 -5.487780   8.623339   \n",
       "2   5.474987 -16.175602  -6.273927   1.055980 -22.802814 -1.355439  16.201962   \n",
       "3  19.534105 -15.777413  -6.863119   4.812232 -29.383081 -6.756101  -7.505578   \n",
       "4 -10.295480 -31.240737  10.990946   0.656096 -23.303609 -3.377757  30.301439   \n",
       "\n",
       "          7          8          9   ...         86         87         88  \\\n",
       "0  41.735712 -10.110290  13.893757  ...  12.478954 -30.068915 -47.913707   \n",
       "1  36.662616  -7.383572 -39.861679  ...   4.830299  19.611342 -35.900325   \n",
       "2  32.944554  -4.630614   6.233720  ...  51.079299 -11.944445 -51.070310   \n",
       "3   0.548617 -17.597086 -14.904720  ...  22.016934   8.856643  -6.845009   \n",
       "4  16.654266  -0.161807  -3.671974  ...  -3.956318 -13.591868 -26.024702   \n",
       "\n",
       "          89         90         91         92         93         94         95  \n",
       "0  14.714811 -17.241791   6.486735  26.456941  63.701761 -17.887825  21.516744  \n",
       "1  45.733032  -2.857659   5.916804  82.456646  34.427442  -0.153906  83.436959  \n",
       "2  12.397111 -19.068659  -5.625129  48.529716  48.813838  -6.016333  10.582172  \n",
       "3  22.816601   0.418034 -18.978339   9.303711  41.359689   4.616394  32.863481  \n",
       "4  13.573341 -10.809346  -2.419427  35.918892  36.435138 -10.428509  16.641590  \n",
       "\n",
       "[5 rows x 96 columns]"
      ]
     },
     "execution_count": 31,
     "metadata": {},
     "output_type": "execute_result"
    }
   ],
   "source": [
    "df3_q2.head()"
   ]
  },
  {
   "cell_type": "code",
   "execution_count": 32,
   "id": "bde7c2ea",
   "metadata": {},
   "outputs": [],
   "source": [
    "df3_q1['id']=df1['id']\n",
    "df3_q2['id']=df1['id']"
   ]
  },
  {
   "cell_type": "code",
   "execution_count": 34,
   "id": "47c285b6",
   "metadata": {},
   "outputs": [
    {
     "data": {
      "text/plain": [
       "Index(['Unnamed: 0', 'id', 'qid1', 'qid2', 'question1', 'question2',\n",
       "       'is_duplicate', 'freq_qid1', 'freq_qid2', 'q1_len', 'q2_len',\n",
       "       'q1_n_words', 'q2_n_words', 'word_Common', 'word_Total', 'word_share ',\n",
       "       'freq_q1+q2', 'freq_q1-q2', 'processed_ques2', 'processed_ques1',\n",
       "       'cwc_min', 'cwc_max', 'csc_min', 'csc_max', 'ctc_min', 'ctc_max',\n",
       "       'last_word_eq', 'first_word_eq', 'abs_len_diff', 'mean_len',\n",
       "       'token_set_ratio', 'token_sort_ratio', 'fuzz_ratio',\n",
       "       'fuzz_partial_ratio', 'longest_substr_ratio'],\n",
       "      dtype='object')"
      ]
     },
     "execution_count": 34,
     "metadata": {},
     "output_type": "execute_result"
    }
   ],
   "source": [
    "df1.columns"
   ]
  },
  {
   "cell_type": "code",
   "execution_count": 36,
   "id": "3efae150",
   "metadata": {},
   "outputs": [],
   "source": [
    "df1=df1.drop(['Unnamed: 0','question1', 'question2','processed_ques2', 'processed_ques1'],axis=1)"
   ]
  },
  {
   "cell_type": "code",
   "execution_count": 37,
   "id": "47b003c6",
   "metadata": {},
   "outputs": [],
   "source": [
    "df1=df1.merge(df3_q1,on='id',how='left')\n",
    "df1=df1.merge(df3_q2,on='id',how='left')\n"
   ]
  },
  {
   "cell_type": "code",
   "execution_count": 40,
   "id": "d28805f5",
   "metadata": {},
   "outputs": [
    {
     "data": {
      "text/plain": [
       "Index(['id', 'qid1', 'qid2', 'is_duplicate', 'freq_qid1', 'freq_qid2',\n",
       "       'q1_len', 'q2_len', 'q1_n_words', 'q2_n_words',\n",
       "       ...\n",
       "       '86_y', '87_y', '88_y', '89_y', '90_y', '91_y', '92_y', '93_y', '94_y',\n",
       "       '95_y'],\n",
       "      dtype='object', length=222)"
      ]
     },
     "execution_count": 40,
     "metadata": {},
     "output_type": "execute_result"
    }
   ],
   "source": [
    "df1.columns"
   ]
  },
  {
   "cell_type": "code",
   "execution_count": 41,
   "id": "edc44414",
   "metadata": {},
   "outputs": [],
   "source": [
    "df1.to_csv(\"data/final_features.csv\")"
   ]
  },
  {
   "cell_type": "code",
   "execution_count": null,
   "id": "d73c3276",
   "metadata": {},
   "outputs": [],
   "source": []
  }
 ],
 "metadata": {
  "kernelspec": {
   "display_name": "Python 3 (ipykernel)",
   "language": "python",
   "name": "python3"
  },
  "language_info": {
   "codemirror_mode": {
    "name": "ipython",
    "version": 3
   },
   "file_extension": ".py",
   "mimetype": "text/x-python",
   "name": "python",
   "nbconvert_exporter": "python",
   "pygments_lexer": "ipython3",
   "version": "3.10.9"
  }
 },
 "nbformat": 4,
 "nbformat_minor": 5
}
